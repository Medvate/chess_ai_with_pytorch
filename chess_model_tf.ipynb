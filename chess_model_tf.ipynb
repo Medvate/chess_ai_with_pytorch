{
 "cells": [
  {
   "cell_type": "markdown",
   "metadata": {},
   "source": [
    "# Train chess model (TF)"
   ]
  },
  {
   "cell_type": "code",
   "execution_count": null,
   "metadata": {},
   "outputs": [],
   "source": [
    "!yes | pip install numpy tensorflow-gpu"
   ]
  },
  {
   "cell_type": "code",
   "execution_count": null,
   "metadata": {},
   "outputs": [],
   "source": [
    "import numpy as np\n",
    "import tensorflow as tf\n",
    "from tensorflow.keras.layers import Input, Conv2D, BatchNormalization, Flatten, Dropout, Dense, Add, Activation\n",
    "from tensorflow.keras.optimizers import Adadelta, Adam\n",
    "from tensorflow.keras.callbacks import ModelCheckpoint, CSVLogger"
   ]
  },
  {
   "cell_type": "markdown",
   "metadata": {},
   "source": [
    "## Test GPU (должно вывестись GPU, не CPU)"
   ]
  },
  {
   "cell_type": "code",
   "execution_count": null,
   "metadata": {},
   "outputs": [],
   "source": [
    "from tensorflow.python.client import device_lib\n",
    "\n",
    "print(device_lib.list_local_devices())"
   ]
  },
  {
   "cell_type": "code",
   "execution_count": null,
   "metadata": {},
   "outputs": [],
   "source": [
    "PATH_OF_DATASET = \"train.npz\"\n",
    "PATH_OF_BEST_WEIGHTS = \"best_weights.h5\"\n",
    "PATH_OF_CSV_LOGGER = \"result_of_fit.csv\""
   ]
  },
  {
   "cell_type": "code",
   "execution_count": null,
   "metadata": {},
   "outputs": [],
   "source": [
    "class ChessDataset:\n",
    "    \"\"\"\n",
    "    Датасет для обучения модели игре в шахматы.\n",
    "    \"\"\"\n",
    "\n",
    "    def __init__(self, npz_path: str) -> None:\n",
    "        \"\"\"\n",
    "        Инициализация датасета.\n",
    "\n",
    "        :param npz_path: Путь к CSV-файлу.\n",
    "        \"\"\"\n",
    "        tmp_data = np.load(npz_path)\n",
    "        self.inputs = tmp_data['inputs']\n",
    "        self.targets = tmp_data['targets']\n",
    "        del tmp_data\n",
    "\n",
    "        self.inputs = np.squeeze(self.inputs, axis=1)\n",
    "        self.targets = np.squeeze(self.targets, axis=1)\n",
    "\n",
    "        self.inputs = np.asarray(self.inputs, dtype=np.float32)\n",
    "        self.targets = np.asarray(self.targets, dtype=np.float32)\n",
    "\n",
    "        print(f'x.shape={self.inputs.shape}, y.shape={self.targets.shape}.')"
   ]
  },
  {
   "cell_type": "code",
   "execution_count": null,
   "metadata": {},
   "outputs": [],
   "source": [
    "def get_tf_resnet_chess_model() -> tf.keras.Model:\n",
    "    \"\"\"\n",
    "    Создает модель с заданной архитектурой.\n",
    "\n",
    "    :return: TF-модель.\n",
    "    \"\"\"\n",
    "    inputs = Input(shape=(14, 8, 8))\n",
    "    x = Conv2D(filters=56, kernel_size=3, padding='same')(inputs)\n",
    "    x = BatchNormalization()(x)\n",
    "    x = Activation('relu')(x)\n",
    "\n",
    "    x_skip = x\n",
    "    x = Conv2D(filters=56, kernel_size=5, padding='same')(x)\n",
    "    x = BatchNormalization()(x)\n",
    "    x = Add()([x, x_skip])\n",
    "    x = Activation('relu')(x)\n",
    "\n",
    "    x_skip = x\n",
    "    x = Conv2D(filters=56, kernel_size=7, padding='same')(x)\n",
    "    x = BatchNormalization()(x)\n",
    "    x = Add()([x, x_skip])\n",
    "    x = Activation('relu')(x)\n",
    "\n",
    "    x_skip = x\n",
    "    x = Conv2D(filters=56, kernel_size=7, padding='same')(x)\n",
    "    x = BatchNormalization()(x)\n",
    "    x = Add()([x, x_skip])\n",
    "    x = Activation('relu')(x)\n",
    "\n",
    "    x = Flatten()(x)\n",
    "    x = Dropout(rate=0.2)(x)\n",
    "    x = Dense(28, activation='relu')(x)\n",
    "    outputs = Dense(1, activation='tanh')(x)\n",
    "\n",
    "    return tf.keras.Model(inputs=inputs, outputs=outputs)"
   ]
  },
  {
   "cell_type": "code",
   "execution_count": null,
   "metadata": {},
   "outputs": [],
   "source": [
    "model = get_tf_resnet_chess_model()\n",
    "model.compile(optimizer=Adadelta(), loss='mean_squared_error')\n",
    "model.summary()\n",
    "\n",
    "checkpoint = ModelCheckpoint(PATH_OF_BEST_WEIGHTS, monitor='val_loss', verbose=1, save_best_only=True, mode='auto')\n",
    "csv_logger = CSVLogger(PATH_OF_CSV_LOGGER)\n",
    "\n",
    "dataset = ChessDataset(PATH_OF_DATASET)"
   ]
  },
  {
   "cell_type": "code",
   "execution_count": null,
   "metadata": {},
   "outputs": [],
   "source": [
    "model.fit(dataset.inputs, dataset.targets, batch_size=1024, epochs=500, shuffle=True,\n",
    "          verbose=1, validation_split=0.05, callbacks=[checkpoint, csv_logger])"
   ]
  },
  {
   "cell_type": "code",
   "execution_count": null,
   "metadata": {},
   "outputs": [],
   "source": []
  }
 ],
 "metadata": {
  "kernelspec": {
   "display_name": "Python 3",
   "language": "python",
   "name": "python3"
  },
  "language_info": {
   "codemirror_mode": {
    "name": "ipython",
    "version": 3
   },
   "file_extension": ".py",
   "mimetype": "text/x-python",
   "name": "python",
   "nbconvert_exporter": "python",
   "pygments_lexer": "ipython3",
   "version": "3.8.5"
  }
 },
 "nbformat": 4,
 "nbformat_minor": 4
}
